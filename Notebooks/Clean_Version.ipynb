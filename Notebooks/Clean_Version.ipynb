{
 "cells": [
  {
   "cell_type": "markdown",
   "metadata": {},
   "source": [
    "## Libraries"
   ]
  },
  {
   "cell_type": "code",
   "execution_count": 7,
   "metadata": {},
   "outputs": [],
   "source": [
    "import seaborn as sns\n",
    "import pandas as pd\n",
    "import numpy as np\n",
    "import matplotlib.pyplot as plt\n",
    "import csv"
   ]
  },
  {
   "cell_type": "markdown",
   "metadata": {},
   "source": [
    "## Data"
   ]
  },
  {
   "cell_type": "code",
   "execution_count": 2,
   "metadata": {},
   "outputs": [],
   "source": [
    "#kdd = pd.read_csv('../../Data/kddcup.data_10_percent_corrected',header=None )\n",
    "with open('../../Data/kddcup.names.txt') as f:\n",
    "    reader = csv.reader(f,delimiter = ':')\n",
    "    class_label = next(reader,None)\n",
    "    headerRow = [column[0] for column in reader]\n",
    "    headerRow = headerRow+['classLabel']\n",
    "    kdd = pd.read_csv('../../Data/kddcup.data_10_percent_corrected',header=None)\n",
    "    kdd.columns=headerRow"
   ]
  },
  {
   "cell_type": "markdown",
   "metadata": {},
   "source": [
    "## Total Rows and Columns"
   ]
  },
  {
   "cell_type": "code",
   "execution_count": 3,
   "metadata": {},
   "outputs": [
    {
     "data": {
      "text/plain": [
       "(494021, 42)"
      ]
     },
     "execution_count": 3,
     "metadata": {},
     "output_type": "execute_result"
    }
   ],
   "source": [
    "kdd.shape"
   ]
  },
  {
   "cell_type": "markdown",
   "metadata": {},
   "source": [
    "## Data Manipulation and Data processing"
   ]
  },
  {
   "cell_type": "code",
   "execution_count": 4,
   "metadata": {},
   "outputs": [],
   "source": [
    "## Dictionary of General category and Attacks\n",
    "## Portsweeping = 10413  --> 1114  (Probing)\n",
    "## back         = 2203   --> 1114  (DOS)\n",
    "## smurf        = Large   --> 1114  (DOS) \n",
    "## neptune      = 'Large'  --> 1114  (DOS)\n",
    "## satan        =  15892 --> 1114 (Probing)\n",
    "## ipsweep      = 12481 -- 1114 (Probing)\n",
    "## land         =  21 -->       (DOS)\n",
    "## nmap         =  2316 --> 1114   (Probing)\n",
    "## multihop     =  4    (R2L)\n",
    "## TearDrop     = 979   (Probing)\n",
    "## Pod          = 264   (DOS)\n",
    "## guess_passwd = 53    (R2L)\n",
    "## buffer_overflow = 30 (U2R) \n",
    "## warezmaster = 20     (R2L)\n",
    "## imap        = 12     (Probing)\n",
    "## rootkit     = 10 (Probing)\n",
    "## loadmodule  = 9  (U2R)\n",
    "## ftp_write   = 8  (R2L)\n",
    "## multihop    = 7  (R2L)\n",
    "## phf         = 4  (R2L)\n",
    "## perl        = 3  (U2R) \n",
    "## spy         = 2 (R2L)\n",
    "categories = {\n",
    "                'normal.':'Normal',\n",
    "                'buffer_overflow.':'U2R',\n",
    "                'loadmodule.':'U2R',\n",
    "                'perl.':'U2R',\n",
    "                'neptune.':'DOS',\n",
    "                'smurf.':'DOS',\n",
    "                'guess_passwd.':'R2L',\n",
    "                'pod.':'DOS',\n",
    "                'teardrop.':'DOS',\n",
    "                'portsweep.':'Probing',\n",
    "                'ipsweep.':'Probing',\n",
    "                'land.':'DOS',\n",
    "                'ftp_write.':'R2L',\n",
    "                'back.':'DOS',\n",
    "                'imap.':'Probing',\n",
    "                'satan.':'Probing',\n",
    "                'phf.':'R2L',\n",
    "                'nmap.':'Probing',\n",
    "                'multihop.':'R2L',\n",
    "                'warezmaster.':'R2L',\n",
    "                'warezclient.':'R2L',\n",
    "                'rootkit.':'U2R',\n",
    "                'spy.':'R2L'\n",
    "            }\n",
    "\n",
    "kdd['category'] = kdd['classLabel'].map(categories)\n",
    " \n",
    "## Group by General Category and detailed class Label\n",
    "groupClassLabel = kdd.groupby('classLabel').count()['duration'].sort_values(ascending = False)\n",
    "groupCategory = kdd.groupby('category').count()['duration'].sort_values(ascending = False)\n"
   ]
  },
  {
   "cell_type": "code",
   "execution_count": 34,
   "metadata": {},
   "outputs": [
    {
     "name": "stdout",
     "output_type": "stream",
     "text": [
      "duration\n",
      "protocol_type\n",
      "service\n",
      "flag\n",
      "src_bytes\n",
      "dst_bytes\n",
      "land\n",
      "wrong_fragment\n",
      "urgent\n",
      "hot\n",
      "num_failed_logins\n",
      "logged_in\n",
      "num_compromised\n",
      "root_shell\n",
      "su_attempted\n",
      "num_root\n",
      "num_file_creations\n",
      "num_shells\n",
      "num_access_files\n",
      "num_outbound_cmds\n",
      "is_host_login\n",
      "is_guest_login\n",
      "count\n",
      "srv_count\n",
      "serror_rate\n",
      "srv_serror_rate\n",
      "rerror_rate\n",
      "srv_rerror_rate\n",
      "same_srv_rate\n",
      "diff_srv_rate\n",
      "srv_diff_host_rate\n",
      "dst_host_count\n",
      "dst_host_srv_count\n",
      "dst_host_same_srv_rate\n",
      "dst_host_diff_srv_rate\n",
      "dst_host_same_src_port_rate\n",
      "dst_host_srv_diff_host_rate\n",
      "dst_host_serror_rate\n",
      "dst_host_srv_serror_rate\n",
      "dst_host_rerror_rate\n",
      "dst_host_srv_rerror_rate\n",
      "classLabel\n",
      "category\n"
     ]
    }
   ],
   "source": [
    "for i in kdd:\n",
    "    print(i)"
   ]
  },
  {
   "cell_type": "markdown",
   "metadata": {},
   "source": [
    "## Total Records by Attack Class"
   ]
  },
  {
   "cell_type": "code",
   "execution_count": 8,
   "metadata": {},
   "outputs": [
    {
     "data": {
      "text/plain": [
       "classLabel\n",
       "smurf.              280790\n",
       "neptune.            107201\n",
       "normal.              97278\n",
       "back.                 2203\n",
       "satan.                1589\n",
       "ipsweep.              1247\n",
       "portsweep.            1040\n",
       "warezclient.          1020\n",
       "teardrop.              979\n",
       "pod.                   264\n",
       "nmap.                  231\n",
       "guess_passwd.           53\n",
       "buffer_overflow.        30\n",
       "land.                   21\n",
       "warezmaster.            20\n",
       "imap.                   12\n",
       "rootkit.                10\n",
       "loadmodule.              9\n",
       "ftp_write.               8\n",
       "multihop.                7\n",
       "phf.                     4\n",
       "perl.                    3\n",
       "spy.                     2\n",
       "Name: duration, dtype: int64"
      ]
     },
     "execution_count": 8,
     "metadata": {},
     "output_type": "execute_result"
    }
   ],
   "source": [
    "groupClassLabel"
   ]
  },
  {
   "cell_type": "markdown",
   "metadata": {},
   "source": [
    "## Distribution of Attack Class"
   ]
  },
  {
   "cell_type": "code",
   "execution_count": 15,
   "metadata": {},
   "outputs": [
    {
     "data": {
      "image/png": "[encoded data removed]",
      "text/plain": [
       "<matplotlib.figure.Figure at 0x109c78c88>"
      ]
     },
     "metadata": {},
     "output_type": "display_data"
    }
   ],
   "source": [
    "plt.figure()\n",
    "groupCategory.plot(kind='bar', figsize= (10,8))\n",
    "plt.title(\"Distribution of Dataset by Attack Class\")\n",
    "plt.ylabel('Number of dataset')\n",
    "plt.show()"
   ]
  },
  {
   "cell_type": "markdown",
   "metadata": {},
   "source": [
    "## Distribution of Attack Class in numbers"
   ]
  },
  {
   "cell_type": "code",
   "execution_count": 10,
   "metadata": {},
   "outputs": [
    {
     "name": "stdout",
     "output_type": "stream",
     "text": [
      "DOS :  391458 ( 79 %)\n",
      "Normal :  97278 ( 20 %)\n",
      "Probing :  4119 ( 1 %)\n",
      "R2L :  1114 ( 0 %)\n",
      "U2R :  52 ( 0 %)\n"
     ]
    }
   ],
   "source": [
    "glc = ['DOS','Normal','Probing','R2L','U2R']\n",
    "for j, i in zip(glc,groupCategory):\n",
    "    print(j,\": \",i,\"(\", round((i/kdd.shape[0])*100),\"%)\")"
   ]
  },
  {
   "cell_type": "markdown",
   "metadata": {},
   "source": [
    "## Balancing the dataset"
   ]
  },
  {
   "cell_type": "code",
   "execution_count": 11,
   "metadata": {},
   "outputs": [],
   "source": [
    "kdd_R2L = kdd.loc[kdd['category'] == 'R2L']\n",
    "kdd_Probing = kdd.loc[kdd['category'] == 'Probing'][:1114]\n",
    "kdd_Normal = kdd.loc[kdd['category'] == 'Normal'][:1114]\n",
    "kdd_DOS = kdd.loc[kdd['category'] == 'DOS'][:1114]\n"
   ]
  },
  {
   "cell_type": "code",
   "execution_count": 12,
   "metadata": {},
   "outputs": [
    {
     "data": {
      "text/html": [
       "<div>\n",
       "<style scoped>\n",
       "    .dataframe tbody tr th:only-of-type {\n",
       "        vertical-align: middle;\n",
       "    }\n",
       "\n",
       "    .dataframe tbody tr th {\n",
       "        vertical-align: top;\n",
       "    }\n",
       "\n",
       "    .dataframe thead th {\n",
       "        text-align: right;\n",
       "    }\n",
       "</style>\n",
       "<table border=\"1\" class=\"dataframe\">\n",
       "  <thead>\n",
       "    <tr style=\"text-align: right;\">\n",
       "      <th></th>\n",
       "      <th>duration</th>\n",
       "      <th>protocol_type</th>\n",
       "      <th>service</th>\n",
       "      <th>flag</th>\n",
       "      <th>src_bytes</th>\n",
       "      <th>dst_bytes</th>\n",
       "      <th>land</th>\n",
       "      <th>wrong_fragment</th>\n",
       "      <th>urgent</th>\n",
       "      <th>hot</th>\n",
       "      <th>...</th>\n",
       "      <th>dst_host_same_srv_rate</th>\n",
       "      <th>dst_host_diff_srv_rate</th>\n",
       "      <th>dst_host_same_src_port_rate</th>\n",
       "      <th>dst_host_srv_diff_host_rate</th>\n",
       "      <th>dst_host_serror_rate</th>\n",
       "      <th>dst_host_srv_serror_rate</th>\n",
       "      <th>dst_host_rerror_rate</th>\n",
       "      <th>dst_host_srv_rerror_rate</th>\n",
       "      <th>classLabel</th>\n",
       "      <th>category</th>\n",
       "    </tr>\n",
       "  </thead>\n",
       "  <tbody>\n",
       "    <tr>\n",
       "      <th>15699</th>\n",
       "      <td>23</td>\n",
       "      <td>tcp</td>\n",
       "      <td>telnet</td>\n",
       "      <td>SF</td>\n",
       "      <td>104</td>\n",
       "      <td>276</td>\n",
       "      <td>0</td>\n",
       "      <td>0</td>\n",
       "      <td>0</td>\n",
       "      <td>0</td>\n",
       "      <td>...</td>\n",
       "      <td>1.0</td>\n",
       "      <td>0.0</td>\n",
       "      <td>1.00</td>\n",
       "      <td>1.0</td>\n",
       "      <td>0.00</td>\n",
       "      <td>0.00</td>\n",
       "      <td>0.00</td>\n",
       "      <td>0.00</td>\n",
       "      <td>guess_passwd.</td>\n",
       "      <td>R2L</td>\n",
       "    </tr>\n",
       "    <tr>\n",
       "      <th>22750</th>\n",
       "      <td>60</td>\n",
       "      <td>tcp</td>\n",
       "      <td>telnet</td>\n",
       "      <td>S3</td>\n",
       "      <td>125</td>\n",
       "      <td>179</td>\n",
       "      <td>0</td>\n",
       "      <td>0</td>\n",
       "      <td>0</td>\n",
       "      <td>1</td>\n",
       "      <td>...</td>\n",
       "      <td>1.0</td>\n",
       "      <td>0.0</td>\n",
       "      <td>1.00</td>\n",
       "      <td>0.0</td>\n",
       "      <td>1.00</td>\n",
       "      <td>1.00</td>\n",
       "      <td>0.00</td>\n",
       "      <td>0.00</td>\n",
       "      <td>guess_passwd.</td>\n",
       "      <td>R2L</td>\n",
       "    </tr>\n",
       "    <tr>\n",
       "      <th>22751</th>\n",
       "      <td>0</td>\n",
       "      <td>tcp</td>\n",
       "      <td>telnet</td>\n",
       "      <td>RSTO</td>\n",
       "      <td>125</td>\n",
       "      <td>179</td>\n",
       "      <td>0</td>\n",
       "      <td>0</td>\n",
       "      <td>0</td>\n",
       "      <td>1</td>\n",
       "      <td>...</td>\n",
       "      <td>1.0</td>\n",
       "      <td>0.0</td>\n",
       "      <td>0.50</td>\n",
       "      <td>0.0</td>\n",
       "      <td>0.50</td>\n",
       "      <td>0.50</td>\n",
       "      <td>0.50</td>\n",
       "      <td>0.50</td>\n",
       "      <td>guess_passwd.</td>\n",
       "      <td>R2L</td>\n",
       "    </tr>\n",
       "    <tr>\n",
       "      <th>22752</th>\n",
       "      <td>0</td>\n",
       "      <td>tcp</td>\n",
       "      <td>telnet</td>\n",
       "      <td>RSTO</td>\n",
       "      <td>125</td>\n",
       "      <td>179</td>\n",
       "      <td>0</td>\n",
       "      <td>0</td>\n",
       "      <td>0</td>\n",
       "      <td>1</td>\n",
       "      <td>...</td>\n",
       "      <td>1.0</td>\n",
       "      <td>0.0</td>\n",
       "      <td>0.33</td>\n",
       "      <td>0.0</td>\n",
       "      <td>0.33</td>\n",
       "      <td>0.33</td>\n",
       "      <td>0.67</td>\n",
       "      <td>0.67</td>\n",
       "      <td>guess_passwd.</td>\n",
       "      <td>R2L</td>\n",
       "    </tr>\n",
       "    <tr>\n",
       "      <th>22753</th>\n",
       "      <td>0</td>\n",
       "      <td>tcp</td>\n",
       "      <td>telnet</td>\n",
       "      <td>RSTO</td>\n",
       "      <td>125</td>\n",
       "      <td>179</td>\n",
       "      <td>0</td>\n",
       "      <td>0</td>\n",
       "      <td>0</td>\n",
       "      <td>1</td>\n",
       "      <td>...</td>\n",
       "      <td>1.0</td>\n",
       "      <td>0.0</td>\n",
       "      <td>0.25</td>\n",
       "      <td>0.0</td>\n",
       "      <td>0.25</td>\n",
       "      <td>0.25</td>\n",
       "      <td>0.75</td>\n",
       "      <td>0.75</td>\n",
       "      <td>guess_passwd.</td>\n",
       "      <td>R2L</td>\n",
       "    </tr>\n",
       "  </tbody>\n",
       "</table>\n",
       "<p>5 rows × 43 columns</p>\n",
       "</div>"
      ],
      "text/plain": [
       "       duration protocol_type service  flag  src_bytes  dst_bytes  land  \\\n",
       "15699        23           tcp  telnet    SF        104        276     0   \n",
       "22750        60           tcp  telnet    S3        125        179     0   \n",
       "22751         0           tcp  telnet  RSTO        125        179     0   \n",
       "22752         0           tcp  telnet  RSTO        125        179     0   \n",
       "22753         0           tcp  telnet  RSTO        125        179     0   \n",
       "\n",
       "       wrong_fragment  urgent  hot    ...     dst_host_same_srv_rate  \\\n",
       "15699               0       0    0    ...                        1.0   \n",
       "22750               0       0    1    ...                        1.0   \n",
       "22751               0       0    1    ...                        1.0   \n",
       "22752               0       0    1    ...                        1.0   \n",
       "22753               0       0    1    ...                        1.0   \n",
       "\n",
       "       dst_host_diff_srv_rate  dst_host_same_src_port_rate  \\\n",
       "15699                     0.0                         1.00   \n",
       "22750                     0.0                         1.00   \n",
       "22751                     0.0                         0.50   \n",
       "22752                     0.0                         0.33   \n",
       "22753                     0.0                         0.25   \n",
       "\n",
       "       dst_host_srv_diff_host_rate  dst_host_serror_rate  \\\n",
       "15699                          1.0                  0.00   \n",
       "22750                          0.0                  1.00   \n",
       "22751                          0.0                  0.50   \n",
       "22752                          0.0                  0.33   \n",
       "22753                          0.0                  0.25   \n",
       "\n",
       "       dst_host_srv_serror_rate  dst_host_rerror_rate  \\\n",
       "15699                      0.00                  0.00   \n",
       "22750                      1.00                  0.00   \n",
       "22751                      0.50                  0.50   \n",
       "22752                      0.33                  0.67   \n",
       "22753                      0.25                  0.75   \n",
       "\n",
       "       dst_host_srv_rerror_rate     classLabel  category  \n",
       "15699                      0.00  guess_passwd.       R2L  \n",
       "22750                      0.00  guess_passwd.       R2L  \n",
       "22751                      0.50  guess_passwd.       R2L  \n",
       "22752                      0.67  guess_passwd.       R2L  \n",
       "22753                      0.75  guess_passwd.       R2L  \n",
       "\n",
       "[5 rows x 43 columns]"
      ]
     },
     "execution_count": 12,
     "metadata": {},
     "output_type": "execute_result"
    }
   ],
   "source": [
    "## concatinating all datasets together\n",
    "dataframes = [kdd_R2L,kdd_Probing,kdd_Normal,kdd_DOS]\n",
    "kdd_prop = pd.concat(dataframes)\n",
    "kdd_prop.head()\n"
   ]
  },
  {
   "cell_type": "markdown",
   "metadata": {},
   "source": [
    "## Features in dataset"
   ]
  },
  {
   "cell_type": "code",
   "execution_count": 87,
   "metadata": {},
   "outputs": [
    {
     "data": {
      "text/plain": [
       "Index(['duration', 'protocol_type', 'service', 'flag', 'src_bytes',\n",
       "       'dst_bytes', 'land', 'wrong_fragment', 'urgent', 'hot',\n",
       "       'num_failed_logins', 'logged_in', 'num_compromised', 'root_shell',\n",
       "       'su_attempted', 'num_root', 'num_file_creations', 'num_shells',\n",
       "       'num_access_files', 'num_outbound_cmds', 'is_host_login',\n",
       "       'is_guest_login', 'count', 'srv_count', 'serror_rate',\n",
       "       'srv_serror_rate', 'rerror_rate', 'srv_rerror_rate', 'same_srv_rate',\n",
       "       'diff_srv_rate', 'srv_diff_host_rate', 'dst_host_count',\n",
       "       'dst_host_srv_count', 'dst_host_same_srv_rate',\n",
       "       'dst_host_diff_srv_rate', 'dst_host_same_src_port_rate',\n",
       "       'dst_host_srv_diff_host_rate', 'dst_host_serror_rate',\n",
       "       'dst_host_srv_serror_rate', 'dst_host_rerror_rate',\n",
       "       'dst_host_srv_rerror_rate', 'classLabel', 'category'],\n",
       "      dtype='object')"
      ]
     },
     "execution_count": 87,
     "metadata": {},
     "output_type": "execute_result"
    }
   ],
   "source": [
    "kdd_prop.columns \n",
    "## Event,event type, packet size,  "
   ]
  },
  {
   "cell_type": "markdown",
   "metadata": {},
   "source": [
    "## Distribution of Balanced Dataset"
   ]
  },
  {
   "cell_type": "code",
   "execution_count": 14,
   "metadata": {},
   "outputs": [
    {
     "data": {
      "image/png": "[encoded data removed]",
      "text/plain": [
       "<matplotlib.figure.Figure at 0x103feec50>"
      ]
     },
     "metadata": {},
     "output_type": "display_data"
    }
   ],
   "source": [
    "groupCategory_prop = kdd_prop.groupby('category').count()['duration'].sort_values(ascending = False)\n",
    "plt.figure()\n",
    "groupCategory_prop.plot(kind='bar', figsize= (10,8))\n",
    "plt.title(\"Distribution of Balanced Dataset by Attack Class\")\n",
    "plt.ylabel('Number of dataset')\n",
    "plt.show()"
   ]
  },
  {
   "cell_type": "markdown",
   "metadata": {},
   "source": [
    "## Initial 5 Rows of the dataset"
   ]
  },
  {
   "cell_type": "code",
   "execution_count": 17,
   "metadata": {},
   "outputs": [
    {
     "data": {
      "text/html": [
       "<div>\n",
       "<style scoped>\n",
       "    .dataframe tbody tr th:only-of-type {\n",
       "        vertical-align: middle;\n",
       "    }\n",
       "\n",
       "    .dataframe tbody tr th {\n",
       "        vertical-align: top;\n",
       "    }\n",
       "\n",
       "    .dataframe thead th {\n",
       "        text-align: right;\n",
       "    }\n",
       "</style>\n",
       "<table border=\"1\" class=\"dataframe\">\n",
       "  <thead>\n",
       "    <tr style=\"text-align: right;\">\n",
       "      <th></th>\n",
       "      <th>duration</th>\n",
       "      <th>protocol_type</th>\n",
       "      <th>service</th>\n",
       "      <th>flag</th>\n",
       "      <th>src_bytes</th>\n",
       "      <th>dst_bytes</th>\n",
       "      <th>land</th>\n",
       "      <th>wrong_fragment</th>\n",
       "      <th>urgent</th>\n",
       "      <th>hot</th>\n",
       "      <th>...</th>\n",
       "      <th>dst_host_same_srv_rate</th>\n",
       "      <th>dst_host_diff_srv_rate</th>\n",
       "      <th>dst_host_same_src_port_rate</th>\n",
       "      <th>dst_host_srv_diff_host_rate</th>\n",
       "      <th>dst_host_serror_rate</th>\n",
       "      <th>dst_host_srv_serror_rate</th>\n",
       "      <th>dst_host_rerror_rate</th>\n",
       "      <th>dst_host_srv_rerror_rate</th>\n",
       "      <th>classLabel</th>\n",
       "      <th>category</th>\n",
       "    </tr>\n",
       "  </thead>\n",
       "  <tbody>\n",
       "    <tr>\n",
       "      <th>15699</th>\n",
       "      <td>23</td>\n",
       "      <td>tcp</td>\n",
       "      <td>telnet</td>\n",
       "      <td>SF</td>\n",
       "      <td>104</td>\n",
       "      <td>276</td>\n",
       "      <td>0</td>\n",
       "      <td>0</td>\n",
       "      <td>0</td>\n",
       "      <td>0</td>\n",
       "      <td>...</td>\n",
       "      <td>1.0</td>\n",
       "      <td>0.0</td>\n",
       "      <td>1.00</td>\n",
       "      <td>1.0</td>\n",
       "      <td>0.00</td>\n",
       "      <td>0.00</td>\n",
       "      <td>0.00</td>\n",
       "      <td>0.00</td>\n",
       "      <td>guess_passwd.</td>\n",
       "      <td>R2L</td>\n",
       "    </tr>\n",
       "    <tr>\n",
       "      <th>22750</th>\n",
       "      <td>60</td>\n",
       "      <td>tcp</td>\n",
       "      <td>telnet</td>\n",
       "      <td>S3</td>\n",
       "      <td>125</td>\n",
       "      <td>179</td>\n",
       "      <td>0</td>\n",
       "      <td>0</td>\n",
       "      <td>0</td>\n",
       "      <td>1</td>\n",
       "      <td>...</td>\n",
       "      <td>1.0</td>\n",
       "      <td>0.0</td>\n",
       "      <td>1.00</td>\n",
       "      <td>0.0</td>\n",
       "      <td>1.00</td>\n",
       "      <td>1.00</td>\n",
       "      <td>0.00</td>\n",
       "      <td>0.00</td>\n",
       "      <td>guess_passwd.</td>\n",
       "      <td>R2L</td>\n",
       "    </tr>\n",
       "    <tr>\n",
       "      <th>22751</th>\n",
       "      <td>0</td>\n",
       "      <td>tcp</td>\n",
       "      <td>telnet</td>\n",
       "      <td>RSTO</td>\n",
       "      <td>125</td>\n",
       "      <td>179</td>\n",
       "      <td>0</td>\n",
       "      <td>0</td>\n",
       "      <td>0</td>\n",
       "      <td>1</td>\n",
       "      <td>...</td>\n",
       "      <td>1.0</td>\n",
       "      <td>0.0</td>\n",
       "      <td>0.50</td>\n",
       "      <td>0.0</td>\n",
       "      <td>0.50</td>\n",
       "      <td>0.50</td>\n",
       "      <td>0.50</td>\n",
       "      <td>0.50</td>\n",
       "      <td>guess_passwd.</td>\n",
       "      <td>R2L</td>\n",
       "    </tr>\n",
       "    <tr>\n",
       "      <th>22752</th>\n",
       "      <td>0</td>\n",
       "      <td>tcp</td>\n",
       "      <td>telnet</td>\n",
       "      <td>RSTO</td>\n",
       "      <td>125</td>\n",
       "      <td>179</td>\n",
       "      <td>0</td>\n",
       "      <td>0</td>\n",
       "      <td>0</td>\n",
       "      <td>1</td>\n",
       "      <td>...</td>\n",
       "      <td>1.0</td>\n",
       "      <td>0.0</td>\n",
       "      <td>0.33</td>\n",
       "      <td>0.0</td>\n",
       "      <td>0.33</td>\n",
       "      <td>0.33</td>\n",
       "      <td>0.67</td>\n",
       "      <td>0.67</td>\n",
       "      <td>guess_passwd.</td>\n",
       "      <td>R2L</td>\n",
       "    </tr>\n",
       "    <tr>\n",
       "      <th>22753</th>\n",
       "      <td>0</td>\n",
       "      <td>tcp</td>\n",
       "      <td>telnet</td>\n",
       "      <td>RSTO</td>\n",
       "      <td>125</td>\n",
       "      <td>179</td>\n",
       "      <td>0</td>\n",
       "      <td>0</td>\n",
       "      <td>0</td>\n",
       "      <td>1</td>\n",
       "      <td>...</td>\n",
       "      <td>1.0</td>\n",
       "      <td>0.0</td>\n",
       "      <td>0.25</td>\n",
       "      <td>0.0</td>\n",
       "      <td>0.25</td>\n",
       "      <td>0.25</td>\n",
       "      <td>0.75</td>\n",
       "      <td>0.75</td>\n",
       "      <td>guess_passwd.</td>\n",
       "      <td>R2L</td>\n",
       "    </tr>\n",
       "  </tbody>\n",
       "</table>\n",
       "<p>5 rows × 43 columns</p>\n",
       "</div>"
      ],
      "text/plain": [
       "       duration protocol_type service  flag  src_bytes  dst_bytes  land  \\\n",
       "15699        23           tcp  telnet    SF        104        276     0   \n",
       "22750        60           tcp  telnet    S3        125        179     0   \n",
       "22751         0           tcp  telnet  RSTO        125        179     0   \n",
       "22752         0           tcp  telnet  RSTO        125        179     0   \n",
       "22753         0           tcp  telnet  RSTO        125        179     0   \n",
       "\n",
       "       wrong_fragment  urgent  hot    ...     dst_host_same_srv_rate  \\\n",
       "15699               0       0    0    ...                        1.0   \n",
       "22750               0       0    1    ...                        1.0   \n",
       "22751               0       0    1    ...                        1.0   \n",
       "22752               0       0    1    ...                        1.0   \n",
       "22753               0       0    1    ...                        1.0   \n",
       "\n",
       "       dst_host_diff_srv_rate  dst_host_same_src_port_rate  \\\n",
       "15699                     0.0                         1.00   \n",
       "22750                     0.0                         1.00   \n",
       "22751                     0.0                         0.50   \n",
       "22752                     0.0                         0.33   \n",
       "22753                     0.0                         0.25   \n",
       "\n",
       "       dst_host_srv_diff_host_rate  dst_host_serror_rate  \\\n",
       "15699                          1.0                  0.00   \n",
       "22750                          0.0                  1.00   \n",
       "22751                          0.0                  0.50   \n",
       "22752                          0.0                  0.33   \n",
       "22753                          0.0                  0.25   \n",
       "\n",
       "       dst_host_srv_serror_rate  dst_host_rerror_rate  \\\n",
       "15699                      0.00                  0.00   \n",
       "22750                      1.00                  0.00   \n",
       "22751                      0.50                  0.50   \n",
       "22752                      0.33                  0.67   \n",
       "22753                      0.25                  0.75   \n",
       "\n",
       "       dst_host_srv_rerror_rate     classLabel  category  \n",
       "15699                      0.00  guess_passwd.       R2L  \n",
       "22750                      0.00  guess_passwd.       R2L  \n",
       "22751                      0.50  guess_passwd.       R2L  \n",
       "22752                      0.67  guess_passwd.       R2L  \n",
       "22753                      0.75  guess_passwd.       R2L  \n",
       "\n",
       "[5 rows x 43 columns]"
      ]
     },
     "execution_count": 17,
     "metadata": {},
     "output_type": "execute_result"
    }
   ],
   "source": [
    "kdd_prop.head()"
   ]
  },
  {
   "cell_type": "markdown",
   "metadata": {},
   "source": [
    "## Converting Categorical Values into Numerical values"
   ]
  },
  {
   "cell_type": "code",
   "execution_count": 16,
   "metadata": {},
   "outputs": [
    {
     "name": "stdout",
     "output_type": "stream",
     "text": [
      "Unique values of service:  ['telnet' 'ftp' 'login' 'ftp_data' 'http' 'other' 'private' 'rje' 'smtp'\n",
      " 'time' 'mtp' 'link' 'remote_job' 'gopher' 'ssh' 'name' 'finger' 'whois'\n",
      " 'domain' 'imap4' 'domain_u' 'daytime' 'eco_i' 'ctf' 'pop_3' 'nntp'\n",
      " 'ecr_i' 'systat' 'hostnames' 'sunrpc' 'netstat' 'supdup' 'csnet_ns'\n",
      " 'vmnet' 'auth' 'ntp_u'] \n",
      "\n",
      "Unique values of flag:  ['SF' 'S3' 'RSTO' 'RSTR' 'S2' 'REJ' 'RSTOS0' 'S0' 'SH' 'S1' 'OTH'] \n",
      "\n",
      "Unique values of land:  [0] \n",
      "\n",
      "Unique values of logged_in:  [0 1] \n",
      "\n",
      "Unique values of is_host_login:  [0] \n",
      "\n",
      "Unique values of is_guest_login:  [0 1] \n",
      "\n",
      "Unique values of protocol type:  ['tcp' 'udp' 'icmp'] \n",
      "\n"
     ]
    }
   ],
   "source": [
    "#1. Unique Values\n",
    "print(\"Unique values of service: \",kdd_prop.service.unique(),\"\\n\")\n",
    "print(\"Unique values of flag: \",kdd_prop.flag.unique(),\"\\n\")\n",
    "print(\"Unique values of land: \",kdd_prop.land.unique(),\"\\n\")\n",
    "print(\"Unique values of logged_in: \",kdd_prop.logged_in.unique(),\"\\n\")\n",
    "print(\"Unique values of is_host_login: \",kdd_prop.is_host_login.unique(),\"\\n\")\n",
    "print(\"Unique values of is_guest_login: \",kdd_prop.is_guest_login.unique(),\"\\n\")\n",
    "print(\"Unique values of protocol type: \",kdd_prop.protocol_type.unique(),\"\\n\")"
   ]
  },
  {
   "cell_type": "code",
   "execution_count": 11,
   "metadata": {},
   "outputs": [],
   "source": [
    "## Exploration of attributes and find connection between different variables\n",
    "\n",
    "##Our results indicate that normal, neptune and smurf classes are highly related to certain features that make their classification easier. \n",
    "#Since these three classes make up 98% of the training data, it is very easy for a machine learning algorithm to achieve good results."
   ]
  },
  {
   "cell_type": "markdown",
   "metadata": {},
   "source": [
    "## Preprocessing"
   ]
  },
  {
   "cell_type": "code",
   "execution_count": 18,
   "metadata": {},
   "outputs": [],
   "source": [
    "from sklearn import preprocessing\n",
    "\n",
    "le = preprocessing.LabelEncoder()\n",
    "## Encoding Service\n",
    "le.fit(kdd_prop.service)\n",
    "kdd_prop['service']= le.transform(kdd_prop.service)\n",
    "\n",
    "## Encoding Flag\n",
    "le.fit(kdd_prop.flag)\n",
    "kdd_prop['flag'] = le.transform(kdd_prop.flag)\n",
    "\n",
    "le.fit(kdd_prop.protocol_type)\n",
    "kdd_prop['protocol_type'] = le.transform(kdd_prop.protocol_type)\n",
    "\n"
   ]
  },
  {
   "cell_type": "markdown",
   "metadata": {},
   "source": [
    "##  Training - Testing Split and Feature Selection"
   ]
  },
  {
   "cell_type": "code",
   "execution_count": 19,
   "metadata": {
    "scrolled": false
   },
   "outputs": [
    {
     "name": "stdout",
     "output_type": "stream",
     "text": [
      "Features sorted by their score: \n",
      "\n",
      "[(0.1621, 'count'), (0.0998, 'service'), (0.0991, 'logged_in'), (0.0966, 'dst_host_same_src_port_rate'), (0.0719, 'srv_count'), (0.0704, 'dst_host_same_srv_rate'), (0.0639, 'srv_diff_host_rate'), (0.0639, 'dst_host_srv_count'), (0.0553, 'dst_host_count'), (0.0501, 'protocol_type'), (0.0234, 'dst_host_diff_srv_rate'), (0.0232, 'dst_host_srv_diff_host_rate'), (0.019, 'hot'), (0.0151, 'dst_host_srv_rerror_rate'), (0.0132, 'rerror_rate'), (0.0098, 'srv_serror_rate'), (0.0092, 'src_bytes'), (0.0083, 'dst_host_rerror_rate'), (0.0075, 'flag'), (0.0065, 'srv_rerror_rate'), (0.0061, 'dst_host_srv_serror_rate'), (0.0057, 'serror_rate'), (0.0045, 'dst_bytes'), (0.0036, 'is_guest_login'), (0.0032, 'dst_host_serror_rate'), (0.0025, 'diff_srv_rate'), (0.0021, 'duration'), (0.0014, 'num_failed_logins'), (0.0008, 'root_shell'), (0.0005, 'num_root'), (0.0005, 'num_access_files'), (0.0004, 'same_srv_rate'), (0.0003, 'num_compromised'), (0.0001, 'urgent'), (0.0, 'wrong_fragment'), (0.0, 'su_attempted'), (0.0, 'num_shells'), (0.0, 'num_outbound_cmds'), (0.0, 'num_file_creations'), (0.0, 'land'), (0.0, 'is_host_login')]\n"
     ]
    }
   ],
   "source": [
    "\n",
    "from sklearn.ensemble import ExtraTreesClassifier\n",
    "from sklearn.model_selection import train_test_split\n",
    "\n",
    "#X = np.array(kdd_prop.drop(['category','classLabel'], axis = 1))\n",
    "#y = np.array(kdd_prop['category'])\n",
    "\n",
    "X = kdd_prop.drop(['category','classLabel'], axis = 1)\n",
    "y = kdd_prop['category']\n",
    "\n",
    "# Train - Test split (70% and 30%)\n",
    "\n",
    "X_train, X_test, y_train, y_test = train_test_split(X, y, test_size=0.3, random_state=42)\n",
    "\n",
    "# Machine Learning Model\n",
    "clf = ExtraTreesClassifier()\n",
    "\n",
    "# Fitting X\n",
    "clf = clf.fit(X, y)\n",
    "\n",
    "# Feature Importance\n",
    "print (\"Features sorted by their score: \\n\")\n",
    "print (sorted(zip(map(lambda x: round(x, 4), clf.feature_importances_), headerRow), \n",
    "             reverse=True))"
   ]
  },
  {
   "cell_type": "markdown",
   "metadata": {},
   "source": [
    "## Selecting top ranked features"
   ]
  },
  {
   "cell_type": "code",
   "execution_count": 20,
   "metadata": {},
   "outputs": [],
   "source": [
    "## Selecting top ranked features\n",
    "\n",
    "X_fe = X[['logged_in',\n",
    "           'dst_host_srv_count',\n",
    "           'srv_count',\n",
    "           'dst_host_same_src_port_rate',\n",
    "           'protocol_type',\n",
    "           'srv_diff_host_rate',\n",
    "           'dst_host_count',\n",
    "           'count',\n",
    "           'is_guest_login',\n",
    "           'src_bytes',\n",
    "           'hot',\n",
    "             ]]\n",
    "\n",
    "y_fe = kdd_prop['category']\n",
    "\n",
    "X_train_fe, X_test_fe, y_train_fe, y_test_fe = train_test_split(X_fe, y_fe, test_size=0.3, random_state=42)"
   ]
  },
  {
   "cell_type": "markdown",
   "metadata": {},
   "source": [
    "## Correlation between features of the dataset"
   ]
  },
  {
   "cell_type": "code",
   "execution_count": 62,
   "metadata": {},
   "outputs": [
    {
     "data": {
      "text/plain": [
       "<matplotlib.axes._subplots.AxesSubplot at 0x1a16c93358>"
      ]
     },
     "execution_count": 62,
     "metadata": {},
     "output_type": "execute_result"
    },
    {
     "data": {
      "image/png": "[encoded data removed]",
      "text/plain": [
       "<matplotlib.figure.Figure at 0x1059950b8>"
      ]
     },
     "metadata": {},
     "output_type": "display_data"
    }
   ],
   "source": [
    "## Descriptive statistics\n",
    "corr = X_fe.corr()\n",
    "plt.figure(figsize=(10,8))\n",
    "sns.heatmap(corr, annot=True, cmap=\"YlGnBu\" )"
   ]
  },
  {
   "cell_type": "markdown",
   "metadata": {},
   "source": [
    "## Machine Learning Models"
   ]
  },
  {
   "cell_type": "markdown",
   "metadata": {},
   "source": [
    "## Random forest Algorithm"
   ]
  },
  {
   "cell_type": "code",
   "execution_count": 22,
   "metadata": {},
   "outputs": [
    {
     "name": "stdout",
     "output_type": "stream",
     "text": [
      "Accuracy is:  0.9955123410620793\n"
     ]
    },
    {
     "data": {
      "text/plain": [
       "<matplotlib.axes._subplots.AxesSubplot at 0x11017b048>"
      ]
     },
     "execution_count": 22,
     "metadata": {},
     "output_type": "execute_result"
    },
    {
     "data": {
      "image/png": "[encoded data removed]",
      "text/plain": [
       "<matplotlib.figure.Figure at 0x109c78f28>"
      ]
     },
     "metadata": {},
     "output_type": "display_data"
    }
   ],
   "source": [
    "## Accuracy with all features \n",
    "%matplotlib inline\n",
    "from sklearn.model_selection import train_test_split\n",
    "from sklearn.ensemble import RandomForestClassifier\n",
    "from sklearn.svm import SVC\n",
    "from sklearn.tree import DecisionTreeClassifier\n",
    "from sklearn.naive_bayes import GaussianNB\n",
    "from sklearn.discriminant_analysis import LinearDiscriminantAnalysis\n",
    "from sklearn.metrics import f1_score,confusion_matrix,classification_report\n",
    "from sklearn.metrics import accuracy_score\n",
    "\n",
    "# split data train 70 % and test 30 %\n",
    "#X_train, X_test, Y_train, Y_test = train_test_split(X, y, test_size=0.3, random_state=42)\n",
    "\n",
    "\n",
    "#random forest classifier with n_estimators \n",
    "clf_rf = RandomForestClassifier()      \n",
    "clr_rf = clf_rf.fit(X_train,y_train)\n",
    "\n",
    "ac = accuracy_score(y_test,clf_rf.predict(X_test))\n",
    "print('Accuracy is: ',ac)\n",
    "cm = confusion_matrix(y_test,clf_rf.predict(X_test))\n",
    "\n",
    "sns.heatmap(cm, annot=True, fmt='d', cmap=\"YlGnBu\" )"
   ]
  },
  {
   "cell_type": "code",
   "execution_count": 24,
   "metadata": {},
   "outputs": [
    {
     "name": "stdout",
     "output_type": "stream",
     "text": [
      "Accuracy is:  0.9910246821241586\n"
     ]
    },
    {
     "data": {
      "text/plain": [
       "<matplotlib.axes._subplots.AxesSubplot at 0x10b722940>"
      ]
     },
     "execution_count": 24,
     "metadata": {},
     "output_type": "execute_result"
    },
    {
     "data": {
      "image/png": "[encoded data removed]",
      "text/plain": [
       "<matplotlib.figure.Figure at 0x11018ccf8>"
      ]
     },
     "metadata": {},
     "output_type": "display_data"
    }
   ],
   "source": [
    "## Accuracy with features selected by ranking\n",
    "%matplotlib inline\n",
    "from sklearn.model_selection import train_test_split\n",
    "from sklearn.ensemble import RandomForestClassifier\n",
    "from sklearn.svm import SVC\n",
    "from sklearn.tree import DecisionTreeClassifier\n",
    "from sklearn.naive_bayes import GaussianNB\n",
    "from sklearn.discriminant_analysis import LinearDiscriminantAnalysis\n",
    "from sklearn.metrics import f1_score,confusion_matrix,classification_report\n",
    "from sklearn.metrics import accuracy_score\n",
    "\n",
    "# split data train 70 % and test 30 %\n",
    "#X_train, X_test, Y_train, Y_test = train_test_split(X, y, test_size=0.3, random_state=42)\n",
    "\n",
    "\n",
    "#random forest classifier with n_estimators \n",
    "clf_rf = RandomForestClassifier()      \n",
    "clr_rf = clf_rf.fit(X_train_fe,y_train_fe)\n",
    "\n",
    "ac = accuracy_score(y_test_fe,clf_rf.predict(X_test_fe))\n",
    "print('Accuracy is: ',ac)\n",
    "cm = confusion_matrix(y_test_fe,clf_rf.predict(X_test_fe))\n",
    "\n",
    "sns.heatmap(cm, annot=True, fmt='d', cmap=\"YlGnBu\")"
   ]
  },
  {
   "cell_type": "markdown",
   "metadata": {},
   "source": [
    "## Decision Tree Algorithm"
   ]
  },
  {
   "cell_type": "code",
   "execution_count": 46,
   "metadata": {},
   "outputs": [
    {
     "name": "stdout",
     "output_type": "stream",
     "text": [
      "Accuracy is:  0.9917726252804787\n"
     ]
    },
    {
     "data": {
      "text/plain": [
       "<matplotlib.axes._subplots.AxesSubplot at 0x1a1a44f358>"
      ]
     },
     "execution_count": 46,
     "metadata": {},
     "output_type": "execute_result"
    },
    {
     "data": {
      "image/png": "[encoded data removed]",
      "text/plain": [
       "<matplotlib.figure.Figure at 0x1129df240>"
      ]
     },
     "metadata": {},
     "output_type": "display_data"
    }
   ],
   "source": [
    "\n",
    "dtree = DecisionTreeClassifier()\n",
    "dtree.fit(X_train, y_train)\n",
    "predictions = dtree.predict(X_test)\n",
    "ac = accuracy_score(y_test,predictions)\n",
    "print('Accuracy is: ',ac)\n",
    "cm = confusion_matrix(y_test, predictions)\n",
    "sns.heatmap(cm,annot=True,fmt=\"d\")"
   ]
  },
  {
   "cell_type": "markdown",
   "metadata": {},
   "source": [
    "## Gaussian NB"
   ]
  },
  {
   "cell_type": "code",
   "execution_count": 48,
   "metadata": {},
   "outputs": [
    {
     "name": "stdout",
     "output_type": "stream",
     "text": [
      "Accuracy is:  0.46297681376215405\n"
     ]
    },
    {
     "data": {
      "text/plain": [
       "<matplotlib.axes._subplots.AxesSubplot at 0x112de97f0>"
      ]
     },
     "execution_count": 48,
     "metadata": {},
     "output_type": "execute_result"
    },
    {
     "data": {
      "image/png": "[encoded data removed]",
      "text/plain": [
       "<matplotlib.figure.Figure at 0x112de9d68>"
      ]
     },
     "metadata": {},
     "output_type": "display_data"
    }
   ],
   "source": [
    "## Gaussian NB\n",
    "gnb = GaussianNB()\n",
    "gnb.fit(X_train, y_train)\n",
    "predictions_gnb = gnb.predict(X_test)\n",
    "ac = accuracy_score(y_test,predictions_gnb)\n",
    "print('Accuracy is: ',ac)\n",
    "cm = confusion_matrix(y_test, predictions_gnb)\n",
    "\n",
    "sns.heatmap(cm,annot = True , fmt = \"d\")"
   ]
  },
  {
   "cell_type": "markdown",
   "metadata": {},
   "source": [
    "## Support Vector Machine"
   ]
  },
  {
   "cell_type": "code",
   "execution_count": 54,
   "metadata": {},
   "outputs": [
    {
     "name": "stdout",
     "output_type": "stream",
     "text": [
      "Accuracy is:  0.8825729244577412\n"
     ]
    },
    {
     "data": {
      "text/plain": [
       "<matplotlib.axes._subplots.AxesSubplot at 0x1a19e7f6a0>"
      ]
     },
     "execution_count": 54,
     "metadata": {},
     "output_type": "execute_result"
    },
    {
     "data": {
      "image/png": "[encoded data removed]",
      "text/plain": [
       "<matplotlib.figure.Figure at 0x1a19e7f128>"
      ]
     },
     "metadata": {},
     "output_type": "display_data"
    }
   ],
   "source": [
    "## Support Vector Machine\n",
    "clf_svc = SVC()\n",
    "    \n",
    "clr_svc = clf_svc.fit(X_train,y_train)\n",
    "prediction = clf_svc.predict(X_test)\n",
    "ac = accuracy_score(y_test,prediction)\n",
    "print('Accuracy is: ',ac)\n",
    "cm = confusion_matrix(y_test,prediction)\n",
    "sns.heatmap(cm,annot=True,fmt=\"d\")"
   ]
  },
  {
   "cell_type": "markdown",
   "metadata": {},
   "source": [
    "## Linear Discriminant Analysis"
   ]
  },
  {
   "cell_type": "code",
   "execution_count": 49,
   "metadata": {},
   "outputs": [
    {
     "name": "stdout",
     "output_type": "stream",
     "text": [
      "Accuracy is:  0.9798055347793567\n"
     ]
    },
    {
     "name": "stderr",
     "output_type": "stream",
     "text": [
      "/Users/AkshayKale/anaconda3/lib/python3.6/site-packages/sklearn/discriminant_analysis.py:442: UserWarning: The priors do not sum to 1. Renormalizing\n",
      "  UserWarning)\n",
      "/Users/AkshayKale/anaconda3/lib/python3.6/site-packages/sklearn/discriminant_analysis.py:388: UserWarning: Variables are collinear.\n",
      "  warnings.warn(\"Variables are collinear.\")\n"
     ]
    },
    {
     "data": {
      "text/plain": [
       "<matplotlib.axes._subplots.AxesSubplot at 0x1a191d5240>"
      ]
     },
     "execution_count": 49,
     "metadata": {},
     "output_type": "execute_result"
    },
    {
     "data": {
      "image/png": "[encoded data removed]",
      "text/plain": [
       "<matplotlib.figure.Figure at 0x1a191d5d68>"
      ]
     },
     "metadata": {},
     "output_type": "display_data"
    }
   ],
   "source": [
    "ld = LinearDiscriminantAnalysis()\n",
    "ld.fit(X_train, y_train)\n",
    "predictions_ld = ld.predict(X_test)\n",
    "ac = accuracy_score(y_test,predictions_ld)\n",
    "print('Accuracy is: ',ac)\n",
    "cm = confusion_matrix(y_test, predictions_ld)\n",
    "sns.heatmap(cm,annot = True , fmt = \"d\")"
   ]
  },
  {
   "cell_type": "markdown",
   "metadata": {},
   "source": [
    "## Data Analysis"
   ]
  },
  {
   "cell_type": "code",
   "execution_count": 40,
   "metadata": {},
   "outputs": [],
   "source": [
    "## find relevant features to classify for each label and create a list\n",
    "## we might be able create a list and find with help of domain knowledge how they are related to each other\n",
    "## and how do they help us classify into these classes\n",
    "\n",
    "from sklearn import tree\n",
    "import graphviz \n",
    "\n",
    "clf = tree.DecisionTreeClassifier(class_weight=None, max_depth=3)\n",
    "clf = clf.fit(X_fe,y_fe)\n",
    "dot_data = tree.export_graphviz(clf, out_file=None,\n",
    "                                feature_names=X_fe.columns,\n",
    "                                class_names = clf.classes_,\n",
    "                                filled=True,\n",
    "                                rounded=True,\n",
    "                                special_characters=True) \n",
    "graph = graphviz.Source(dot_data) \n",
    "\n"
   ]
  },
  {
   "cell_type": "code",
   "execution_count": 41,
   "metadata": {},
   "outputs": [
    {
     "data": {
      "image/svg+xml": [
       "<?xml version=\"1.0\" encoding=\"UTF-8\" standalone=\"no\"?>\n",
       "<!DOCTYPE svg PUBLIC \"-//W3C//DTD SVG 1.1//EN\"\n",
       " \"http://www.w3.org/Graphics/SVG/1.1/DTD/svg11.dtd\">\n",
       "<!-- Generated by graphviz version 2.40.1 (20161225.0304)\n",
       " -->\n",
       "<!-- Title: Tree Pages: 1 -->\n",
       "<svg width=\"688pt\" height=\"467pt\"\n",
       " viewBox=\"0.00 0.00 688.12 467.20\" xmlns=\"http://www.w3.org/2000/svg\" xmlns:xlink=\"http://www.w3.org/1999/xlink\">\n",
       "<g id=\"graph0\" class=\"graph\" transform=\"scale(1 1) rotate(0) translate(4 463.2)\">\n",
       "<title>Tree</title>\n",
       "<polygon fill=\"#ffffff\" stroke=\"transparent\" points=\"-4,4 -4,-463.2 684.1219,-463.2 684.1219,4 -4,4\"/>\n",
       "<!-- 0 -->\n",
       "<g id=\"node1\" class=\"node\">\n",
       "<title>0</title>\n",
       "<path fill=\"transparent\" stroke=\"#000000\" d=\"M526.1719,-459.2C526.1719,-459.2 329.0587,-459.2 329.0587,-459.2 323.0587,-459.2 317.0587,-453.2 317.0587,-447.2 317.0587,-447.2 317.0587,-379.2 317.0587,-379.2 317.0587,-373.2 323.0587,-367.2 329.0587,-367.2 329.0587,-367.2 526.1719,-367.2 526.1719,-367.2 532.1719,-367.2 538.1719,-373.2 538.1719,-379.2 538.1719,-379.2 538.1719,-447.2 538.1719,-447.2 538.1719,-453.2 532.1719,-459.2 526.1719,-459.2\"/>\n",
       "<text text-anchor=\"start\" x=\"384.0361\" y=\"-442.6\" font-family=\"Helvetica,sans-Serif\" font-size=\"14.00\" fill=\"#000000\">count ≤ 271.5</text>\n",
       "<text text-anchor=\"start\" x=\"395.129\" y=\"-425.8\" font-family=\"Helvetica,sans-Serif\" font-size=\"14.00\" fill=\"#000000\">gini = 0.75</text>\n",
       "<text text-anchor=\"start\" x=\"378.0147\" y=\"-409\" font-family=\"Helvetica,sans-Serif\" font-size=\"14.00\" fill=\"#000000\">samples = 4456</text>\n",
       "<text text-anchor=\"start\" x=\"325.087\" y=\"-392.2\" font-family=\"Helvetica,sans-Serif\" font-size=\"14.00\" fill=\"#000000\">value = [1114, 1114, 1114, 1114]</text>\n",
       "<text text-anchor=\"start\" x=\"388.5259\" y=\"-375.4\" font-family=\"Helvetica,sans-Serif\" font-size=\"14.00\" fill=\"#000000\">class = DOS</text>\n",
       "</g>\n",
       "<!-- 1 -->\n",
       "<g id=\"node2\" class=\"node\">\n",
       "<title>1</title>\n",
       "<path fill=\"transparent\" stroke=\"#000000\" d=\"M420.6073,-331.2C420.6073,-331.2 238.6233,-331.2 238.6233,-331.2 232.6233,-331.2 226.6233,-325.2 226.6233,-319.2 226.6233,-319.2 226.6233,-251.2 226.6233,-251.2 226.6233,-245.2 232.6233,-239.2 238.6233,-239.2 238.6233,-239.2 420.6073,-239.2 420.6073,-239.2 426.6073,-239.2 432.6073,-245.2 432.6073,-251.2 432.6073,-251.2 432.6073,-319.2 432.6073,-319.2 432.6073,-325.2 426.6073,-331.2 420.6073,-331.2\"/>\n",
       "<text text-anchor=\"start\" x=\"280.9884\" y=\"-314.6\" font-family=\"Helvetica,sans-Serif\" font-size=\"14.00\" fill=\"#000000\">src_bytes ≤ 8.5</text>\n",
       "<text text-anchor=\"start\" x=\"293.2377\" y=\"-297.8\" font-family=\"Helvetica,sans-Serif\" font-size=\"14.00\" fill=\"#000000\">gini = 0.669</text>\n",
       "<text text-anchor=\"start\" x=\"280.0147\" y=\"-281\" font-family=\"Helvetica,sans-Serif\" font-size=\"14.00\" fill=\"#000000\">samples = 3355</text>\n",
       "<text text-anchor=\"start\" x=\"234.8696\" y=\"-264.2\" font-family=\"Helvetica,sans-Serif\" font-size=\"14.00\" fill=\"#000000\">value = [13, 1114, 1114, 1114]</text>\n",
       "<text text-anchor=\"start\" x=\"283.143\" y=\"-247.4\" font-family=\"Helvetica,sans-Serif\" font-size=\"14.00\" fill=\"#000000\">class = Normal</text>\n",
       "</g>\n",
       "<!-- 0&#45;&gt;1 -->\n",
       "<g id=\"edge1\" class=\"edge\">\n",
       "<title>0&#45;&gt;1</title>\n",
       "<path fill=\"none\" stroke=\"#000000\" d=\"M392.2351,-366.9891C385.3655,-358.0166 378.108,-348.5375 371.0639,-339.3369\"/>\n",
       "<polygon fill=\"#000000\" stroke=\"#000000\" points=\"373.8018,-337.1555 364.9436,-331.3431 368.2437,-341.4109 373.8018,-337.1555\"/>\n",
       "<text text-anchor=\"middle\" x=\"361.6539\" y=\"-351.9257\" font-family=\"Helvetica,sans-Serif\" font-size=\"14.00\" fill=\"#000000\">True</text>\n",
       "</g>\n",
       "<!-- 8 -->\n",
       "<g id=\"node9\" class=\"node\">\n",
       "<title>8</title>\n",
       "<path fill=\"#e58139\" stroke=\"#000000\" d=\"M589.1285,-322.9003C589.1285,-322.9003 462.1021,-322.9003 462.1021,-322.9003 456.1021,-322.9003 450.1021,-316.9003 450.1021,-310.9003 450.1021,-310.9003 450.1021,-259.4997 450.1021,-259.4997 450.1021,-253.4997 456.1021,-247.4997 462.1021,-247.4997 462.1021,-247.4997 589.1285,-247.4997 589.1285,-247.4997 595.1285,-247.4997 601.1285,-253.4997 601.1285,-259.4997 601.1285,-259.4997 601.1285,-310.9003 601.1285,-310.9003 601.1285,-316.9003 595.1285,-322.9003 589.1285,-322.9003\"/>\n",
       "<text text-anchor=\"start\" x=\"497.0203\" y=\"-306.2\" font-family=\"Helvetica,sans-Serif\" font-size=\"14.00\" fill=\"#000000\">gini = 0.0</text>\n",
       "<text text-anchor=\"start\" x=\"476.0147\" y=\"-289.4\" font-family=\"Helvetica,sans-Serif\" font-size=\"14.00\" fill=\"#000000\">samples = 1101</text>\n",
       "<text text-anchor=\"start\" x=\"458.1087\" y=\"-272.6\" font-family=\"Helvetica,sans-Serif\" font-size=\"14.00\" fill=\"#000000\">value = [1101, 0, 0, 0]</text>\n",
       "<text text-anchor=\"start\" x=\"486.5259\" y=\"-255.8\" font-family=\"Helvetica,sans-Serif\" font-size=\"14.00\" fill=\"#000000\">class = DOS</text>\n",
       "</g>\n",
       "<!-- 0&#45;&gt;8 -->\n",
       "<g id=\"edge8\" class=\"edge\">\n",
       "<title>0&#45;&gt;8</title>\n",
       "<path fill=\"none\" stroke=\"#000000\" d=\"M462.9955,-366.9891C471.9939,-355.2362 481.6578,-342.6138 490.6361,-330.8872\"/>\n",
       "<polygon fill=\"#000000\" stroke=\"#000000\" points=\"493.4255,-333.0013 496.7256,-322.9335 487.8674,-328.7459 493.4255,-333.0013\"/>\n",
       "<text text-anchor=\"middle\" x=\"500.0153\" y=\"-343.5161\" font-family=\"Helvetica,sans-Serif\" font-size=\"14.00\" fill=\"#000000\">False</text>\n",
       "</g>\n",
       "<!-- 2 -->\n",
       "<g id=\"node3\" class=\"node\">\n",
       "<title>2</title>\n",
       "<path fill=\"#399de5\" fill-opacity=\"0.972549\" stroke=\"#000000\" d=\"M300.9112,-203.2C300.9112,-203.2 166.3194,-203.2 166.3194,-203.2 160.3194,-203.2 154.3194,-197.2 154.3194,-191.2 154.3194,-191.2 154.3194,-123.2 154.3194,-123.2 154.3194,-117.2 160.3194,-111.2 166.3194,-111.2 166.3194,-111.2 300.9112,-111.2 300.9112,-111.2 306.9112,-111.2 312.9112,-117.2 312.9112,-123.2 312.9112,-123.2 312.9112,-191.2 312.9112,-191.2 312.9112,-197.2 306.9112,-203.2 300.9112,-203.2\"/>\n",
       "<text text-anchor=\"start\" x=\"172.9246\" y=\"-186.6\" font-family=\"Helvetica,sans-Serif\" font-size=\"14.00\" fill=\"#000000\">protocol_type ≤ 0.5</text>\n",
       "<text text-anchor=\"start\" x=\"197.2377\" y=\"-169.8\" font-family=\"Helvetica,sans-Serif\" font-size=\"14.00\" fill=\"#000000\">gini = 0.051</text>\n",
       "<text text-anchor=\"start\" x=\"184.0147\" y=\"-153\" font-family=\"Helvetica,sans-Serif\" font-size=\"14.00\" fill=\"#000000\">samples = 1112</text>\n",
       "<text text-anchor=\"start\" x=\"162.2174\" y=\"-136.2\" font-family=\"Helvetica,sans-Serif\" font-size=\"14.00\" fill=\"#000000\">value = [2, 5, 1083, 22]</text>\n",
       "<text text-anchor=\"start\" x=\"185.5757\" y=\"-119.4\" font-family=\"Helvetica,sans-Serif\" font-size=\"14.00\" fill=\"#000000\">class = Probing</text>\n",
       "</g>\n",
       "<!-- 1&#45;&gt;2 -->\n",
       "<g id=\"edge2\" class=\"edge\">\n",
       "<title>1&#45;&gt;2</title>\n",
       "<path fill=\"none\" stroke=\"#000000\" d=\"M294.9571,-238.9891C288.2957,-230.1072 281.262,-220.7289 274.4272,-211.6158\"/>\n",
       "<polygon fill=\"#000000\" stroke=\"#000000\" points=\"277.0227,-209.2431 268.2226,-203.3431 271.4227,-213.4431 277.0227,-209.2431\"/>\n",
       "</g>\n",
       "<!-- 5 -->\n",
       "<g id=\"node6\" class=\"node\">\n",
       "<title>5</title>\n",
       "<path fill=\"#47e539\" fill-opacity=\"0.015686\" stroke=\"#000000\" d=\"M509.9113,-203.2C509.9113,-203.2 343.3193,-203.2 343.3193,-203.2 337.3193,-203.2 331.3193,-197.2 331.3193,-191.2 331.3193,-191.2 331.3193,-123.2 331.3193,-123.2 331.3193,-117.2 337.3193,-111.2 343.3193,-111.2 343.3193,-111.2 509.9113,-111.2 509.9113,-111.2 515.9113,-111.2 521.9113,-117.2 521.9113,-123.2 521.9113,-123.2 521.9113,-191.2 521.9113,-191.2 521.9113,-197.2 515.9113,-203.2 509.9113,-203.2\"/>\n",
       "<text text-anchor=\"start\" x=\"339.4674\" y=\"-186.6\" font-family=\"Helvetica,sans-Serif\" font-size=\"14.00\" fill=\"#000000\">dst_host_srv_count ≤ 144.5</text>\n",
       "<text text-anchor=\"start\" x=\"390.2377\" y=\"-169.8\" font-family=\"Helvetica,sans-Serif\" font-size=\"14.00\" fill=\"#000000\">gini = 0.518</text>\n",
       "<text text-anchor=\"start\" x=\"377.0147\" y=\"-153\" font-family=\"Helvetica,sans-Serif\" font-size=\"14.00\" fill=\"#000000\">samples = 2243</text>\n",
       "<text text-anchor=\"start\" x=\"339.6522\" y=\"-136.2\" font-family=\"Helvetica,sans-Serif\" font-size=\"14.00\" fill=\"#000000\">value = [11, 1109, 31, 1092]</text>\n",
       "<text text-anchor=\"start\" x=\"380.143\" y=\"-119.4\" font-family=\"Helvetica,sans-Serif\" font-size=\"14.00\" fill=\"#000000\">class = Normal</text>\n",
       "</g>\n",
       "<!-- 1&#45;&gt;5 -->\n",
       "<g id=\"edge5\" class=\"edge\">\n",
       "<title>1&#45;&gt;5</title>\n",
       "<path fill=\"none\" stroke=\"#000000\" d=\"M364.6345,-238.9891C371.434,-230.0166 378.6174,-220.5375 385.5896,-211.3369\"/>\n",
       "<polygon fill=\"#000000\" stroke=\"#000000\" points=\"388.3972,-213.4271 391.6475,-203.3431 382.8182,-209.1992 388.3972,-213.4271\"/>\n",
       "</g>\n",
       "<!-- 3 -->\n",
       "<g id=\"node4\" class=\"node\">\n",
       "<title>3</title>\n",
       "<path fill=\"#399de5\" stroke=\"#000000\" d=\"M131.3461,-75.3003C131.3461,-75.3003 11.8845,-75.3003 11.8845,-75.3003 5.8845,-75.3003 -.1155,-69.3003 -.1155,-63.3003 -.1155,-63.3003 -.1155,-11.8997 -.1155,-11.8997 -.1155,-5.8997 5.8845,.1003 11.8845,.1003 11.8845,.1003 131.3461,.1003 131.3461,.1003 137.3461,.1003 143.3461,-5.8997 143.3461,-11.8997 143.3461,-11.8997 143.3461,-63.3003 143.3461,-63.3003 143.3461,-69.3003 137.3461,-75.3003 131.3461,-75.3003\"/>\n",
       "<text text-anchor=\"start\" x=\"43.0203\" y=\"-58.6\" font-family=\"Helvetica,sans-Serif\" font-size=\"14.00\" fill=\"#000000\">gini = 0.0</text>\n",
       "<text text-anchor=\"start\" x=\"25.906\" y=\"-41.8\" font-family=\"Helvetica,sans-Serif\" font-size=\"14.00\" fill=\"#000000\">samples = 667</text>\n",
       "<text text-anchor=\"start\" x=\"8\" y=\"-25\" font-family=\"Helvetica,sans-Serif\" font-size=\"14.00\" fill=\"#000000\">value = [0, 0, 667, 0]</text>\n",
       "<text text-anchor=\"start\" x=\"23.5757\" y=\"-8.2\" font-family=\"Helvetica,sans-Serif\" font-size=\"14.00\" fill=\"#000000\">class = Probing</text>\n",
       "</g>\n",
       "<!-- 2&#45;&gt;3 -->\n",
       "<g id=\"edge3\" class=\"edge\">\n",
       "<title>2&#45;&gt;3</title>\n",
       "<path fill=\"none\" stroke=\"#000000\" d=\"M170.9819,-110.9595C157.7098,-101.1612 143.7434,-90.8501 130.6117,-81.1554\"/>\n",
       "<polygon fill=\"#000000\" stroke=\"#000000\" points=\"132.6809,-78.3325 122.557,-75.2088 128.5233,-83.9641 132.6809,-78.3325\"/>\n",
       "</g>\n",
       "<!-- 4 -->\n",
       "<g id=\"node5\" class=\"node\">\n",
       "<title>4</title>\n",
       "<path fill=\"#399de5\" fill-opacity=\"0.933333\" stroke=\"#000000\" d=\"M300.1285,-75.3003C300.1285,-75.3003 173.1021,-75.3003 173.1021,-75.3003 167.1021,-75.3003 161.1021,-69.3003 161.1021,-63.3003 161.1021,-63.3003 161.1021,-11.8997 161.1021,-11.8997 161.1021,-5.8997 167.1021,.1003 173.1021,.1003 173.1021,.1003 300.1285,.1003 300.1285,.1003 306.1285,.1003 312.1285,-5.8997 312.1285,-11.8997 312.1285,-11.8997 312.1285,-63.3003 312.1285,-63.3003 312.1285,-69.3003 306.1285,-75.3003 300.1285,-75.3003\"/>\n",
       "<text text-anchor=\"start\" x=\"200.2377\" y=\"-58.6\" font-family=\"Helvetica,sans-Serif\" font-size=\"14.00\" fill=\"#000000\">gini = 0.123</text>\n",
       "<text text-anchor=\"start\" x=\"190.906\" y=\"-41.8\" font-family=\"Helvetica,sans-Serif\" font-size=\"14.00\" fill=\"#000000\">samples = 445</text>\n",
       "<text text-anchor=\"start\" x=\"169.1087\" y=\"-25\" font-family=\"Helvetica,sans-Serif\" font-size=\"14.00\" fill=\"#000000\">value = [2, 5, 416, 22]</text>\n",
       "<text text-anchor=\"start\" x=\"188.5757\" y=\"-8.2\" font-family=\"Helvetica,sans-Serif\" font-size=\"14.00\" fill=\"#000000\">class = Probing</text>\n",
       "</g>\n",
       "<!-- 2&#45;&gt;4 -->\n",
       "<g id=\"edge4\" class=\"edge\">\n",
       "<title>2&#45;&gt;4</title>\n",
       "<path fill=\"none\" stroke=\"#000000\" d=\"M234.7752,-110.9595C234.9862,-102.5477 235.2067,-93.7581 235.4187,-85.3049\"/>\n",
       "<polygon fill=\"#000000\" stroke=\"#000000\" points=\"238.92,-85.2935 235.6719,-75.2088 231.9222,-85.1179 238.92,-85.2935\"/>\n",
       "</g>\n",
       "<!-- 6 -->\n",
       "<g id=\"node7\" class=\"node\">\n",
       "<title>6</title>\n",
       "<path fill=\"#d739e5\" fill-opacity=\"0.800000\" stroke=\"#000000\" d=\"M498.9767,-75.3003C498.9767,-75.3003 348.2539,-75.3003 348.2539,-75.3003 342.2539,-75.3003 336.2539,-69.3003 336.2539,-63.3003 336.2539,-63.3003 336.2539,-11.8997 336.2539,-11.8997 336.2539,-5.8997 342.2539,.1003 348.2539,.1003 348.2539,.1003 498.9767,.1003 498.9767,.1003 504.9767,.1003 510.9767,-5.8997 510.9767,-11.8997 510.9767,-11.8997 510.9767,-63.3003 510.9767,-63.3003 510.9767,-69.3003 504.9767,-75.3003 498.9767,-75.3003\"/>\n",
       "<text text-anchor=\"start\" x=\"387.2377\" y=\"-58.6\" font-family=\"Helvetica,sans-Serif\" font-size=\"14.00\" fill=\"#000000\">gini = 0.288</text>\n",
       "<text text-anchor=\"start\" x=\"374.0147\" y=\"-41.8\" font-family=\"Helvetica,sans-Serif\" font-size=\"14.00\" fill=\"#000000\">samples = 1311</text>\n",
       "<text text-anchor=\"start\" x=\"344.4348\" y=\"-25\" font-family=\"Helvetica,sans-Serif\" font-size=\"14.00\" fill=\"#000000\">value = [0, 199, 24, 1088]</text>\n",
       "<text text-anchor=\"start\" x=\"386.8569\" y=\"-8.2\" font-family=\"Helvetica,sans-Serif\" font-size=\"14.00\" fill=\"#000000\">class = R2L</text>\n",
       "</g>\n",
       "<!-- 5&#45;&gt;6 -->\n",
       "<g id=\"edge6\" class=\"edge\">\n",
       "<title>5&#45;&gt;6</title>\n",
       "<path fill=\"none\" stroke=\"#000000\" d=\"M425.4554,-110.9595C425.2444,-102.5477 425.0239,-93.7581 424.8119,-85.3049\"/>\n",
       "<polygon fill=\"#000000\" stroke=\"#000000\" points=\"428.3084,-85.1179 424.5587,-75.2088 421.3106,-85.2935 428.3084,-85.1179\"/>\n",
       "</g>\n",
       "<!-- 7 -->\n",
       "<g id=\"node8\" class=\"node\">\n",
       "<title>7</title>\n",
       "<path fill=\"#47e539\" fill-opacity=\"0.976471\" stroke=\"#000000\" d=\"M668.1285,-75.3003C668.1285,-75.3003 541.1021,-75.3003 541.1021,-75.3003 535.1021,-75.3003 529.1021,-69.3003 529.1021,-63.3003 529.1021,-63.3003 529.1021,-11.8997 529.1021,-11.8997 529.1021,-5.8997 535.1021,.1003 541.1021,.1003 541.1021,.1003 668.1285,.1003 668.1285,.1003 674.1285,.1003 680.1285,-5.8997 680.1285,-11.8997 680.1285,-11.8997 680.1285,-63.3003 680.1285,-63.3003 680.1285,-69.3003 674.1285,-75.3003 668.1285,-75.3003\"/>\n",
       "<text text-anchor=\"start\" x=\"568.2377\" y=\"-58.6\" font-family=\"Helvetica,sans-Serif\" font-size=\"14.00\" fill=\"#000000\">gini = 0.046</text>\n",
       "<text text-anchor=\"start\" x=\"558.906\" y=\"-41.8\" font-family=\"Helvetica,sans-Serif\" font-size=\"14.00\" fill=\"#000000\">samples = 932</text>\n",
       "<text text-anchor=\"start\" x=\"537.1087\" y=\"-25\" font-family=\"Helvetica,sans-Serif\" font-size=\"14.00\" fill=\"#000000\">value = [11, 910, 7, 4]</text>\n",
       "<text text-anchor=\"start\" x=\"558.143\" y=\"-8.2\" font-family=\"Helvetica,sans-Serif\" font-size=\"14.00\" fill=\"#000000\">class = Normal</text>\n",
       "</g>\n",
       "<!-- 5&#45;&gt;7 -->\n",
       "<g id=\"edge7\" class=\"edge\">\n",
       "<title>5&#45;&gt;7</title>\n",
       "<path fill=\"none\" stroke=\"#000000\" d=\"M495.1801,-111.1306C509.9165,-101.2291 525.4429,-90.7967 540.0224,-81.0006\"/>\n",
       "<polygon fill=\"#000000\" stroke=\"#000000\" points=\"542.1356,-83.7975 548.484,-75.3152 538.2316,-77.9872 542.1356,-83.7975\"/>\n",
       "</g>\n",
       "</g>\n",
       "</svg>\n"
      ],
      "text/plain": [
       "<graphviz.files.Source at 0x1a125a30f0>"
      ]
     },
     "execution_count": 41,
     "metadata": {},
     "output_type": "execute_result"
    }
   ],
   "source": [
    "graph"
   ]
  },
  {
   "cell_type": "code",
   "execution_count": 43,
   "metadata": {},
   "outputs": [
    {
     "name": "stdout",
     "output_type": "stream",
     "text": [
      "Accuracy is:  94.83919222139117\n"
     ]
    },
    {
     "data": {
      "text/plain": [
       "<matplotlib.axes._subplots.AxesSubplot at 0x1a125bcc88>"
      ]
     },
     "execution_count": 43,
     "metadata": {},
     "output_type": "execute_result"
    },
    {
     "data": {
      "image/png": "[encoded data removed]",
      "text/plain": [
       "<matplotlib.figure.Figure at 0x1a125ef438>"
      ]
     },
     "metadata": {},
     "output_type": "display_data"
    }
   ],
   "source": [
    "#['DOS','R2L','Normal','Probing']\n",
    "\n",
    "ac = accuracy_score(y_test_fe,clf.predict(X_test_fe))\n",
    "print('Accuracy is: ',(ac)*100)\n",
    "cm = confusion_matrix(y_test_fe,clf.predict(X_test_fe))\n",
    "\n",
    "sns.heatmap(cm, annot=True, fmt='d',  cmap=\"YlGnBu\")"
   ]
  },
  {
   "cell_type": "code",
   "execution_count": null,
   "metadata": {},
   "outputs": [],
   "source": [
    "## creating tree on testing data\n"
   ]
  },
  {
   "cell_type": "code",
   "execution_count": 25,
   "metadata": {},
   "outputs": [],
   "source": [
    "The most important split at tree depth at 1 is srv_count <= 239.5\n",
    "\n",
    "\n",
    "## To explain better\n",
    "## Link: http://benalexkeen.com/decision-tree-classifier-in-python-using-scikit-learn/"
   ]
  },
  {
   "cell_type": "code",
   "execution_count": 63,
   "metadata": {},
   "outputs": [
    {
     "data": {
      "text/plain": [
       "category\n",
       "DOS        504.026930\n",
       "Normal       9.306104\n",
       "Probing     17.362657\n",
       "R2L          1.338420\n",
       "Name: srv_count, dtype: float64"
      ]
     },
     "execution_count": 63,
     "metadata": {},
     "output_type": "execute_result"
    }
   ],
   "source": [
    "## Number of connections to the same service as the current connection in the past two seconds\n",
    "\n",
    "kdd_prop.groupby(['category'])['srv_count'].mean()"
   ]
  },
  {
   "cell_type": "code",
   "execution_count": 78,
   "metadata": {},
   "outputs": [
    {
     "data": {
      "text/plain": [
       "category\n",
       "DOS          1030.147217\n",
       "Normal        400.179533\n",
       "Probing    622432.647217\n",
       "R2L        274898.517056\n",
       "Name: src_bytes, dtype: float64"
      ]
     },
     "execution_count": 78,
     "metadata": {},
     "output_type": "execute_result"
    }
   ],
   "source": [
    "## Bytes sent from source to destination\n",
    "\n",
    "kdd_prop.groupby(['category'])['src_bytes'].mean()"
   ]
  },
  {
   "cell_type": "code",
   "execution_count": 91,
   "metadata": {},
   "outputs": [
    {
     "data": {
      "text/plain": [
       "category\n",
       "DOS        251.597846\n",
       "Normal     213.348294\n",
       "Probing    137.265709\n",
       "R2L         39.357271\n",
       "Name: dst_host_srv_count, dtype: float64"
      ]
     },
     "execution_count": 91,
     "metadata": {},
     "output_type": "execute_result"
    }
   ],
   "source": [
    "## dst_host_srv_count\n",
    "## Count of connections having the same destination host and using the same service\n",
    "\n",
    "\n",
    "kdd_prop.groupby(['category'])['dst_host_srv_count'].mean()"
   ]
  },
  {
   "cell_type": "code",
   "execution_count": 13,
   "metadata": {},
   "outputs": [
    {
     "name": "stdout",
     "output_type": "stream",
     "text": [
      "('DOS', 7601     tcp\n",
      "7602     tcp\n",
      "7793    icmp\n",
      "7794    icmp\n",
      "7795    icmp\n",
      "7796    icmp\n",
      "7797    icmp\n",
      "7798    icmp\n",
      "7799    icmp\n",
      "7800    icmp\n",
      "7801    icmp\n",
      "7802    icmp\n",
      "7803    icmp\n",
      "7804    icmp\n",
      "7805    icmp\n",
      "7806    icmp\n",
      "7807    icmp\n",
      "7808    icmp\n",
      "7809    icmp\n",
      "7810    icmp\n",
      "7811    icmp\n",
      "7812    icmp\n",
      "7813    icmp\n",
      "7814    icmp\n",
      "7815    icmp\n",
      "7816    icmp\n",
      "7817    icmp\n",
      "7818    icmp\n",
      "7819    icmp\n",
      "7820    icmp\n",
      "        ... \n",
      "8875    icmp\n",
      "8876    icmp\n",
      "8877    icmp\n",
      "8878    icmp\n",
      "8879    icmp\n",
      "8880    icmp\n",
      "8881    icmp\n",
      "8882    icmp\n",
      "8883    icmp\n",
      "8884    icmp\n",
      "8885    icmp\n",
      "8886    icmp\n",
      "8887    icmp\n",
      "8888    icmp\n",
      "8889    icmp\n",
      "8890    icmp\n",
      "8891    icmp\n",
      "8892    icmp\n",
      "8893    icmp\n",
      "8894    icmp\n",
      "8895    icmp\n",
      "8896    icmp\n",
      "8897    icmp\n",
      "8898    icmp\n",
      "8899    icmp\n",
      "8900    icmp\n",
      "8901    icmp\n",
      "8902    icmp\n",
      "8903    icmp\n",
      "8904    icmp\n",
      "Name: protocol_type, Length: 1114, dtype: object)\n",
      "('Normal', 0       tcp\n",
      "1       tcp\n",
      "2       tcp\n",
      "3       tcp\n",
      "4       tcp\n",
      "5       tcp\n",
      "6       tcp\n",
      "7       tcp\n",
      "8       tcp\n",
      "9       tcp\n",
      "10      tcp\n",
      "11      tcp\n",
      "12      tcp\n",
      "13      tcp\n",
      "14      tcp\n",
      "15      tcp\n",
      "16      tcp\n",
      "17      tcp\n",
      "18      tcp\n",
      "19      tcp\n",
      "20      tcp\n",
      "21      tcp\n",
      "22      tcp\n",
      "23      tcp\n",
      "24      tcp\n",
      "25      tcp\n",
      "26      tcp\n",
      "27      tcp\n",
      "28      tcp\n",
      "29      tcp\n",
      "       ... \n",
      "1086    tcp\n",
      "1087    tcp\n",
      "1088    tcp\n",
      "1089    tcp\n",
      "1090    tcp\n",
      "1091    tcp\n",
      "1092    tcp\n",
      "1093    tcp\n",
      "1094    tcp\n",
      "1095    tcp\n",
      "1096    tcp\n",
      "1097    tcp\n",
      "1098    tcp\n",
      "1099    tcp\n",
      "1100    tcp\n",
      "1101    tcp\n",
      "1102    tcp\n",
      "1103    tcp\n",
      "1104    tcp\n",
      "1105    tcp\n",
      "1106    tcp\n",
      "1107    tcp\n",
      "1108    tcp\n",
      "1109    tcp\n",
      "1110    tcp\n",
      "1111    tcp\n",
      "1112    tcp\n",
      "1113    tcp\n",
      "1114    tcp\n",
      "1115    tcp\n",
      "Name: protocol_type, Length: 1114, dtype: object)\n",
      "('Probing', 22814    tcp\n",
      "22815    tcp\n",
      "22816    tcp\n",
      "22817    tcp\n",
      "22818    tcp\n",
      "22819    tcp\n",
      "22820    tcp\n",
      "22821    tcp\n",
      "22822    tcp\n",
      "22823    tcp\n",
      "22824    tcp\n",
      "22825    tcp\n",
      "22826    tcp\n",
      "22827    tcp\n",
      "22828    tcp\n",
      "22829    tcp\n",
      "22830    tcp\n",
      "26506    tcp\n",
      "26507    tcp\n",
      "26508    tcp\n",
      "26509    tcp\n",
      "26510    tcp\n",
      "26511    tcp\n",
      "26512    tcp\n",
      "26526    tcp\n",
      "26527    tcp\n",
      "26528    tcp\n",
      "26529    tcp\n",
      "26530    tcp\n",
      "26531    tcp\n",
      "        ... \n",
      "83013    tcp\n",
      "83014    tcp\n",
      "83015    tcp\n",
      "83016    tcp\n",
      "83017    tcp\n",
      "83018    tcp\n",
      "83019    tcp\n",
      "86230    tcp\n",
      "86231    tcp\n",
      "86232    tcp\n",
      "86233    tcp\n",
      "86234    tcp\n",
      "86235    tcp\n",
      "86236    tcp\n",
      "86237    tcp\n",
      "86238    tcp\n",
      "86239    tcp\n",
      "86240    tcp\n",
      "86241    tcp\n",
      "86242    tcp\n",
      "86243    tcp\n",
      "86244    tcp\n",
      "86245    tcp\n",
      "86246    tcp\n",
      "86247    tcp\n",
      "86248    tcp\n",
      "86249    tcp\n",
      "86250    tcp\n",
      "86251    tcp\n",
      "86252    tcp\n",
      "Name: protocol_type, Length: 1114, dtype: object)\n",
      "('R2L', 15699     tcp\n",
      "22750     tcp\n",
      "22751     tcp\n",
      "22752     tcp\n",
      "22753     tcp\n",
      "22754     tcp\n",
      "22755     tcp\n",
      "22756     tcp\n",
      "22757     tcp\n",
      "22758     tcp\n",
      "22759     tcp\n",
      "22760     tcp\n",
      "22761     tcp\n",
      "22762     tcp\n",
      "22763     tcp\n",
      "22764     tcp\n",
      "22765     tcp\n",
      "22766     tcp\n",
      "22767     tcp\n",
      "22768     tcp\n",
      "22769     tcp\n",
      "22770     tcp\n",
      "22771     tcp\n",
      "22772     tcp\n",
      "22773     tcp\n",
      "22774     tcp\n",
      "22775     tcp\n",
      "22776     tcp\n",
      "22777     tcp\n",
      "22778     tcp\n",
      "         ... \n",
      "148839    tcp\n",
      "148842    tcp\n",
      "148843    tcp\n",
      "148849    tcp\n",
      "148850    tcp\n",
      "148874    tcp\n",
      "148875    tcp\n",
      "148876    tcp\n",
      "148877    tcp\n",
      "148878    tcp\n",
      "148879    tcp\n",
      "148881    tcp\n",
      "148882    tcp\n",
      "148896    tcp\n",
      "148897    tcp\n",
      "148934    tcp\n",
      "148935    tcp\n",
      "148936    tcp\n",
      "148937    tcp\n",
      "148943    tcp\n",
      "148944    tcp\n",
      "148945    tcp\n",
      "148946    tcp\n",
      "148948    tcp\n",
      "148949    tcp\n",
      "148955    tcp\n",
      "148956    tcp\n",
      "148964    tcp\n",
      "148965    tcp\n",
      "452731    tcp\n",
      "Name: protocol_type, Length: 1114, dtype: object)\n"
     ]
    }
   ],
   "source": [
    "## Probing\n",
    "for i in kdd_prop.groupby(['category'])['protocol_type']:\n",
    "    print(i)\n"
   ]
  },
  {
   "cell_type": "code",
   "execution_count": null,
   "metadata": {},
   "outputs": [],
   "source": [
    "## understanding "
   ]
  },
  {
   "cell_type": "code",
   "execution_count": null,
   "metadata": {},
   "outputs": [],
   "source": [
    "## Attacks and their Preventive measures \n",
    "## "
   ]
  },
  {
   "cell_type": "code",
   "execution_count": 28,
   "metadata": {},
   "outputs": [],
   "source": [
    "## Analysis of data"
   ]
  },
  {
   "cell_type": "code",
   "execution_count": 75,
   "metadata": {},
   "outputs": [
    {
     "name": "stderr",
     "output_type": "stream",
     "text": [
      "/Users/AkshayKale/anaconda3/lib/python3.6/site-packages/ipykernel_launcher.py:5: FutureWarning: specifying 'categories' or 'ordered' in .astype() is deprecated; pass a CategoricalDtype instead\n",
      "  \"\"\"\n"
     ]
    },
    {
     "data": {
      "text/plain": [
       "Counter({nan: 3342, 'other': 1112, 'probing': 2})"
      ]
     },
     "execution_count": 75,
     "metadata": {},
     "output_type": "execute_result"
    }
   ],
   "source": [
    "from collections import Counter\n",
    "kdd_temp = kdd_prop.copy() # use a copy of the data so we don't have to rebuild it again\n",
    "# bianry outcome - is it Probing or not?\n",
    "\n",
    "kdd_temp['category'] = pd.Series(['probing' if cat == 'Probing' else 'other' for cat in kdd_prop['category']]).astype(\"category\", categories=['probing', 'other'], ordered=True)\n",
    "Counter(kdd_temp['category'])"
   ]
  },
  {
   "cell_type": "code",
   "execution_count": 87,
   "metadata": {},
   "outputs": [
    {
     "name": "stdout",
     "output_type": "stream",
     "text": [
      "Accuracy is:  0.9932685115931189\n"
     ]
    },
    {
     "data": {
      "text/plain": [
       "<matplotlib.axes._subplots.AxesSubplot at 0x1a3f188198>"
      ]
     },
     "execution_count": 87,
     "metadata": {},
     "output_type": "execute_result"
    },
    {
     "data": {
      "image/png": "[encoded data removed]",
      "text/plain": [
       "<matplotlib.figure.Figure at 0x1a3dbce160>"
      ]
     },
     "metadata": {},
     "output_type": "display_data"
    }
   ],
   "source": [
    "ac = accuracy_score(y_test_fe,clf_rf.predict(X_test_fe))\n",
    "print('Accuracy is: ',ac)\n",
    "cm = confusion_matrix(y_test_fe,clf_rf.predict(X_test_fe))\n",
    "\n",
    "sns.heatmap(cm, annot=True, fmt='d')"
   ]
  },
  {
   "cell_type": "code",
   "execution_count": 77,
   "metadata": {},
   "outputs": [
    {
     "data": {
      "text/plain": [
       "['srv_count <= 59.5 src_bytes <= 8.5 srv_diff_host_rate <= 0.14000000059604645 ',\n",
       " 'srv_count <= 56.5 src_bytes <= 18.5 srv_diff_host_rate <= 0.18000000715255737 ',\n",
       " 'count <= 280.5 src_bytes <= 8.5 ',\n",
       " 'count <= 265.0 src_bytes <= 8.5 ',\n",
       " 'count <= 278.0 src_bytes <= 8.5 ',\n",
       " 'src_bytes <= 8.5 dst_host_same_src_port_rate <= 0.014999999664723873 srv_count <= 195.0 ',\n",
       " 'srv_count <= 58.0 src_bytes <= 8.5 srv_diff_host_rate <= 0.14000000059604645 ',\n",
       " 'count <= 242.0 src_bytes <= 18.5 ',\n",
       " 'srv_count <= 59.5 src_bytes <= 8.5 srv_diff_host_rate <= 0.14000000059604645 ',\n",
       " 'srv_count <= 73.5 src_bytes <= 8.5 srv_diff_host_rate <= 0.14000000059604645 ',\n",
       " 'srv_count <= 73.5 src_bytes <= 8.5 ',\n",
       " 'count <= 258.5 src_bytes <= 8.5 ',\n",
       " 'srv_count <= 59.5 src_bytes <= 8.5 srv_diff_host_rate <= 0.14000000059604645 ',\n",
       " 'count <= 327.5 src_bytes <= 8.5 ',\n",
       " 'count <= 273.5 src_bytes <= 8.5 ',\n",
       " 'count <= 70.5 src_bytes <= 8.5 srv_count <= 51.0 ',\n",
       " 'count <= 338.0 src_bytes <= 8.5 ',\n",
       " 'srv_count <= 58.0 src_bytes <= 8.5 ',\n",
       " 'srv_count <= 59.5 src_bytes <= 8.5 srv_diff_host_rate <= 0.14000000059604645 ',\n",
       " 'count <= 251.5 src_bytes <= 25.0 ']"
      ]
     },
     "execution_count": 77,
     "metadata": {},
     "output_type": "execute_result"
    }
   ],
   "source": [
    "\n",
    "feature_splits = []\n",
    "\n",
    "HOW_DEEP_TREES = 2\n",
    "clf = tree.DecisionTreeClassifier(random_state=0, max_depth=HOW_DEEP_TREES)\n",
    "\n",
    "features = X_fe.columns\n",
    "target = 'category'\n",
    " \n",
    "for x in range(0,20):\n",
    "    sample_frame = kdd_prop.sample(frac=0.2, replace=True)\n",
    "  \n",
    "    estimator = clf.fit(sample_frame[features], sample_frame[target])\n",
    "    n_nodes = estimator.tree_.node_count\n",
    "    children_left = estimator.tree_.children_left\n",
    "    children_right = estimator.tree_.children_right\n",
    "    feature = estimator.tree_.feature\n",
    "    threshold = estimator.tree_.threshold\n",
    "\n",
    "    cur_node = ''\n",
    "    for i in range(n_nodes):\n",
    "        if (threshold[i] >= 0):\n",
    "            cur_node = cur_node + features[feature[i]] + ' <= ' + str(threshold[i]) + \" \"\n",
    "            #feature_splits[features[feature[i]]].append( threshold[i] )\n",
    "    if (len(cur_node) > 0):\n",
    "        feature_splits.append(cur_node)\n",
    " \n",
    "feature_splits"
   ]
  },
  {
   "cell_type": "code",
   "execution_count": null,
   "metadata": {},
   "outputs": [],
   "source": [
    "## 1. Server count\n",
    "## 2. Source bytes\n",
    "## 3. Count\n",
    "\n",
    "## Common characteristics "
   ]
  },
  {
   "cell_type": "code",
   "execution_count": 102,
   "metadata": {},
   "outputs": [
    {
     "data": {
      "text/plain": [
       "Index(['logged_in', 'dst_host_srv_count', 'srv_count',\n",
       "       'dst_host_same_src_port_rate', 'protocol_type', 'srv_diff_host_rate',\n",
       "       'dst_host_count', 'count', 'is_guest_login', 'src_bytes', 'hot'],\n",
       "      dtype='object')"
      ]
     },
     "execution_count": 102,
     "metadata": {},
     "output_type": "execute_result"
    }
   ],
   "source": [
    "#random.sample(kdd_prop.index, 10)\n",
    "features = X_fe.columns\n",
    "target = 'category'"
   ]
  },
  {
   "cell_type": "code",
   "execution_count": null,
   "metadata": {},
   "outputs": [],
   "source": [
    "df.sample(frac=0.1, replace=True)"
   ]
  },
  {
   "cell_type": "code",
   "execution_count": 66,
   "metadata": {},
   "outputs": [],
   "source": [
    "\n",
    "kdd_temp = kdd_prop.copy()"
   ]
  },
  {
   "cell_type": "code",
   "execution_count": 79,
   "metadata": {},
   "outputs": [],
   "source": [
    "from sklearn import preprocessing\n",
    "le = preprocessing.LabelEncoder()\n",
    "## Encoding Service\n",
    "le.fit(kdd_temp.service)\n",
    "kdd_prop['service']= le.transform(kdd_prop.service)\n",
    "\n",
    "## Encoding Flag\n",
    "le.fit(kdd_temp.flag)\n",
    "kdd_prop['flag'] = le.transform(kdd_prop.flag)\n",
    "\n",
    "le.fit(kdd_temp.protocol_type)\n",
    "kdd_prop['protocol_type'] = le.transform(kdd_prop.protocol_type)\n",
    "\n",
    "\n",
    "kdd_temp = kdd_temp[['logged_in',\n",
    "                   'dst_host_srv_count',\n",
    "                   'srv_count',\n",
    "                   'dst_host_same_src_port_rate',\n",
    "                   'protocol_type',\n",
    "                   'srv_diff_host_rate',\n",
    "                   'dst_host_count',\n",
    "                   'count',\n",
    "                   'is_guest_login',\n",
    "                   'src_bytes',\n",
    "                   'hot',\n",
    "                   'category'\n",
    "                 ]]\n",
    "\n",
    "X_temp = kdd_temp[['logged_in',\n",
    "                   'dst_host_srv_count',\n",
    "                   'srv_count',\n",
    "                   'dst_host_same_src_port_rate',\n",
    "                   'protocol_type',\n",
    "                   'srv_diff_host_rate',\n",
    "                   'dst_host_count',\n",
    "                   'count',\n",
    "                   'is_guest_login',\n",
    "                   'src_bytes',\n",
    "                   'hot',\n",
    "                 ]]\n",
    "\n",
    "y_temp = kdd_temp['category']\n",
    "\n",
    "X_train_temp, X_test_temp, y_train_temp, y_test_temp = train_test_split(X_temp, y_temp, test_size=0.3, random_state=42)"
   ]
  },
  {
   "cell_type": "code",
   "execution_count": 84,
   "metadata": {},
   "outputs": [
    {
     "data": {
      "text/plain": [
       "'dtree_render.pdf'"
      ]
     },
     "execution_count": 84,
     "metadata": {},
     "output_type": "execute_result"
    }
   ],
   "source": [
    "HOW_DEEP_TREES = 1\n",
    "clf = DecisionTreeClassifier(random_state=0, max_depth=HOW_DEEP_TREES, class_weight=\"balanced\")\n",
    "clf = clf.fit(X_temp, y_temp)\n",
    "dot_data = tree.export_graphviz(clf, out_file=None,  feature_names=X_temp.columns,  \n",
    "    class_names=['other','Probing'], filled=True, rounded=True, special_characters=True) \n",
    "graph = graphviz.Source(dot_data)  \n",
    "graph.render('dtree_render',view=True)"
   ]
  },
  {
   "cell_type": "code",
   "execution_count": 80,
   "metadata": {},
   "outputs": [
    {
     "data": {
      "text/plain": [
       "['count <= 300.5 src_bytes <= 19.0 ',\n",
       " 'src_bytes <= 18.5 dst_host_same_src_port_rate <= 0.45499998331069946 srv_count <= 77.5 ',\n",
       " 'srv_count <= 73.0 src_bytes <= 19.0 srv_diff_host_rate <= 0.18000000715255737 ',\n",
       " 'src_bytes <= 8.5 srv_count <= 1.5 srv_count <= 62.0 ',\n",
       " 'count <= 337.5 src_bytes <= 8.5 ',\n",
       " 'count <= 357.0 src_bytes <= 8.5 ',\n",
       " 'srv_count <= 59.0 src_bytes <= 18.5 ',\n",
       " 'srv_count <= 74.0 src_bytes <= 8.5 ',\n",
       " 'count <= 317.5 src_bytes <= 8.5 ',\n",
       " 'srv_count <= 59.5 src_bytes <= 9.0 ',\n",
       " 'srv_count <= 53.0 src_bytes <= 18.5 ',\n",
       " 'src_bytes <= 8.5 logged_in <= 0.5 srv_count <= 44.5 ',\n",
       " 'count <= 254.0 src_bytes <= 8.5 ',\n",
       " 'srv_count <= 73.5 src_bytes <= 8.5 ',\n",
       " 'srv_count <= 75.5 src_bytes <= 8.5 ',\n",
       " 'count <= 279.5 src_bytes <= 8.5 ',\n",
       " 'srv_count <= 73.5 src_bytes <= 19.0 ',\n",
       " 'count <= 320.5 src_bytes <= 18.5 ',\n",
       " 'count <= 338.5 src_bytes <= 8.5 ',\n",
       " 'count <= 278.5 src_bytes <= 9.0 ']"
      ]
     },
     "execution_count": 80,
     "metadata": {},
     "output_type": "execute_result"
    }
   ],
   "source": [
    "feature_splits = []\n",
    "\n",
    "HOW_DEEP_TREES = 2\n",
    "clf = tree.DecisionTreeClassifier(random_state=0, max_depth=HOW_DEEP_TREES)\n",
    "\n",
    "features = X_temp.columns\n",
    "target = 'category'\n",
    " \n",
    "for x in range(0,20):\n",
    "    sample_frame = kdd_temp.sample(frac=0.1, replace=True)\n",
    "  \n",
    "    estimator = clf.fit(sample_frame[features], sample_frame[target])\n",
    "    n_nodes = estimator.tree_.node_count\n",
    "    children_left = estimator.tree_.children_left\n",
    "    children_right = estimator.tree_.children_right\n",
    "    feature = estimator.tree_.feature\n",
    "    threshold = estimator.tree_.threshold\n",
    "\n",
    "    cur_node = ''\n",
    "    for i in range(n_nodes):\n",
    "        if (threshold[i] >= 0):\n",
    "            cur_node = cur_node + features[feature[i]] + ' <= ' + str(threshold[i]) + \" \"\n",
    "            #feature_splits[features[feature[i]]].append( threshold[i] )\n",
    "    if (len(cur_node) > 0):\n",
    "        feature_splits.append(cur_node)\n",
    " \n",
    "feature_splits"
   ]
  },
  {
   "cell_type": "code",
   "execution_count": null,
   "metadata": {},
   "outputs": [],
   "source": []
  }
 ],
 "metadata": {
  "kernelspec": {
   "display_name": "Python 3",
   "language": "python",
   "name": "python3"
  },
  "language_info": {
   "codemirror_mode": {
    "name": "ipython",
    "version": 3
   },
   "file_extension": ".py",
   "mimetype": "text/x-python",
   "name": "python",
   "nbconvert_exporter": "python",
   "pygments_lexer": "ipython3",
   "version": "3.6.4"
  }
 },
 "nbformat": 4,
 "nbformat_minor": 2
}
